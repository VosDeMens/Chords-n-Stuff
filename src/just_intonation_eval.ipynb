{
 "cells": [
  {
   "cell_type": "code",
   "execution_count": 1,
   "metadata": {},
   "outputs": [],
   "source": [
    "from enum import Enum\n",
    "from fractions import Fraction\n",
    "from itertools import combinations\n",
    "from math import log, lcm"
   ]
  },
  {
   "cell_type": "code",
   "execution_count": 2,
   "metadata": {},
   "outputs": [],
   "source": [
    "class JustInterval(Enum):\n",
    "    UNISON = (\"Unison\", Fraction(1, 1))\n",
    "    OCTAVE = (\"Octave\", Fraction(2, 1))\n",
    "    PERFECT_FIFTH = (\"Perfect Fifth\", Fraction(3, 2))\n",
    "    PERFECT_FOURTH = (\"Perfect Fourth\", Fraction(4, 3))\n",
    "    MAJOR_SIXTH = (\"Major Sixth\", Fraction(5, 3))\n",
    "    MAJOR_THIRD = (\"Major Third\", Fraction(5, 4))\n",
    "    HARMONIC_SEVENTH = (\"Harmonic Seventh\", Fraction(7, 4))\n",
    "    MINOR_THIRD = (\"Minor Third\", Fraction(6, 5))\n",
    "    HUYGENS_TRITONE = (\"Huygen's Tritone\", Fraction(7, 5))\n",
    "    MINOR_SIXTH = (\"Minor Sixth\", Fraction(8, 5))\n",
    "    MINOR_SEVENTH = (\"Minor Seventh\", Fraction(9, 5))\n",
    "    SUBMINOR_THIRD = (\"Subminor Third\", Fraction(7, 6))\n",
    "    UNDECIMAL_NEUTRAL_SEVENTH = (\"Undecimal Neutral Seventh\", Fraction(11, 6))\n",
    "    SUPERMAJOR_SECOND = (\"Supermajor Second\", Fraction(8, 7))\n",
    "    SUPERMAJOR_THIRD = (\"Supermajor Third\", Fraction(9, 7))\n",
    "    EULERS_TRITONE = (\"Euler's Tritone\", Fraction(10, 7))\n",
    "    UNDECIMAL_MINOR_SIXTH = (\"Undecimal Minor Sixth\", Fraction(11, 7))\n",
    "    SUPERMAJOR_SIXTH = (\"Supermajor Sixth\", Fraction(12, 7))\n",
    "    TRIDECIMAL_SUBMAJOR_SEVENTH = (\"Tridecimal Submajor Seventh\", Fraction(13, 7))\n",
    "    MAJOR_SECOND = (\"Major Second\", Fraction(9, 8))\n",
    "    SMALL_WHOLE_TONE = (\"Small Whole Tone\", Fraction(10, 9))\n",
    "    WOLF_FOURTH = (\"Imperfect Fourth\", Fraction(27, 20))\n",
    "    JUST_DIATONIC_SEMITONE = (\"Just Diatonic Semitone\", Fraction(16, 15))\n",
    "    UNDECIMAL_SUPERFOURTH = (\"Undecimal Superfourth\", Fraction(11, 8))\n",
    "    UNDECIMAL_NEUTRAL_SECOND = (\"Undecimal Neutral Second\", Fraction(12, 11))\n",
    "    UNDECIMAL_SUBMAJOR_SECOND = (\"Undecimal Submajor Second\", Fraction(11, 10))\n",
    "    PYTHAGOREAN_MINOR_SEVENTH = (\"Pythagorean Minor Seventh\", Fraction(16, 9))\n",
    "    PYTHAGOREAN_MINOR_THIRD = (\"Pythagorean Minor Third\", Fraction(32, 27))\n",
    "    SEPTIMAL_SUBFOURTH = (\"Septimal Subfourth\", Fraction(21, 16))\n",
    "    IMPERFECT_FIFTH = (\"Imperfect Fifth\", Fraction(40, 27))\n",
    "    PYTHAGOREAN_MAJOR_SIXTH = (\"Pythagorean Major Sixth\", Fraction(27, 16))\n",
    "    CLASSICAL_DIMINISHED_FIFTH = (\"Classical Diminished Fifth\", Fraction(36, 25))\n",
    "    CLASSICAL_AUGMENTED_FIFTH = (\"Classical Augmented Fifth\", Fraction(25, 16))\n",
    "    SEPTIMAL_SUBFIFTH = (\"Septimal Subfifth\", Fraction(35, 24))\n",
    "    SMALLER_PENTAL_TRITONE = (\"Smaller Pental Tritone\", Fraction(45, 32))\n",
    "    LARGER_PENTAL_TRITONE = (\"Larger Pental Tritone\", Fraction(64, 45))\n",
    "    CLASSICAL_MAJOR_SEVENTH = (\"Classical Major Seventh\", Fraction(15, 8))\n",
    "    CLASSICAL_AUGMENTED_SECOND = (\"Classical Augmented Second\", Fraction(75, 64))\n",
    "    DIESIS = (\"Diesis\", Fraction(128, 125))\n",
    "    CLASSICAL_DIMINISHED_SEVENTH = (\"Classical Diminished Seventh\", Fraction(128, 75))\n",
    "    JUST_CHROMATIC_SEMITONE = (\"Just Chromatic Semitone\", Fraction(25, 24))\n",
    "    JUST_DIMINISHED_OCTAVE = (\"Just Diminished Octave\", Fraction(48, 25))\n",
    "    QUASITEMPERED_MINOR_THIRD = (\"Quasi-tempered Minor Third\", Fraction(25, 21))\n",
    "    CLASSICAL_AUGMENTED_FOURTH = (\"Classical Augmented Fourth\", Fraction(25, 18))\n",
    "    SUBMINOR_SIXTH = (\"Subminor Sixth\", Fraction(14, 9))\n",
    "    PYTHAGOREAN_MINOR_SIXTH = (\"Pythagorean Minor Sixth\", Fraction(128, 81))\n",
    "\n",
    "    def __init__(self, name: str, ratio: Fraction):\n",
    "        self._name = name\n",
    "        self._ratio = ratio\n",
    "        self._cents = 100 * log(ratio, 2 ** (1 / 12))\n",
    "\n",
    "    @property\n",
    "    def name(self) -> str:\n",
    "        return self._name\n",
    "\n",
    "    @property\n",
    "    def ratio(self) -> Fraction:\n",
    "        return self._ratio\n",
    "\n",
    "    @property\n",
    "    def cents(self) -> int:\n",
    "        return round(self._cents)\n",
    "\n",
    "    @classmethod\n",
    "    def from_ratio(cls, ratio: Fraction) -> \"JustInterval | None\":\n",
    "        while ratio < 1:\n",
    "            ratio = ratio*2\n",
    "        while ratio > 2:\n",
    "            ratio = ratio/2\n",
    "        for interval in cls:\n",
    "            if interval.ratio == ratio:\n",
    "                return interval\n",
    "        return None\n",
    "\n",
    "    def __sub__(self, other: \"JustInterval\") -> \"JustInterval | Fraction\":\n",
    "        new_ratio = self.ratio / other.ratio\n",
    "        new_interval = self.from_ratio(new_ratio)\n",
    "        if new_interval is not None:\n",
    "            return new_interval\n",
    "        return new_ratio\n",
    "\n",
    "    def __add__(self, other: \"JustInterval\") -> \"JustInterval | Fraction\":\n",
    "        new_ratio = self.ratio * other.ratio\n",
    "        new_interval = self.from_ratio(new_ratio)\n",
    "        if new_interval is not None:\n",
    "            return new_interval\n",
    "        return new_ratio\n",
    "\n",
    "    def __str__(self) -> str:\n",
    "        return f\"{self.name}: {self.ratio}, {self.cents}\"\n",
    "\n",
    "    def __repr__(self) -> str:\n",
    "        return str(self)\n",
    "\n",
    "\n",
    "def get_internal_intervals(intervals: list[JustInterval]) -> list[JustInterval|Fraction]:\n",
    "    return [high - low for low, high in combinations(intervals, 2)]\n",
    "\n",
    "def get_proportions(intervals: list[JustInterval]) -> list[int]:\n",
    "    least_common_multiple = lcm(*[interval.ratio.denominator for interval in intervals])\n",
    "    return [\n",
    "        interval.ratio.numerator * (least_common_multiple // interval.ratio.denominator)\n",
    "        for interval in intervals\n",
    "    ]\n",
    "\n",
    "def show_info(chord: list[JustInterval]) -> None:\n",
    "    for e in get_internal_intervals(chord):\n",
    "        print(e)\n",
    "    print()\n",
    "    print(get_proportions(chord))"
   ]
  },
  {
   "cell_type": "code",
   "execution_count": 15,
   "metadata": {},
   "outputs": [],
   "source": [
    "MAJOR = [\n",
    "    JustInterval.UNISON,\n",
    "    JustInterval.MAJOR_THIRD,\n",
    "    JustInterval.PERFECT_FIFTH\n",
    "]\n",
    "\n",
    "MINOR = [\n",
    "    JustInterval.UNISON,\n",
    "    JustInterval.MINOR_THIRD,\n",
    "    JustInterval.PERFECT_FIFTH\n",
    "]\n",
    "\n",
    "SUS4 = [\n",
    "    JustInterval.UNISON,\n",
    "    JustInterval.PERFECT_FOURTH,\n",
    "    JustInterval.PERFECT_FIFTH\n",
    "]\n",
    "\n",
    "ADD9 = [\n",
    "    JustInterval.UNISON,\n",
    "    JustInterval.MAJOR_SECOND,\n",
    "    JustInterval.MAJOR_THIRD,\n",
    "    JustInterval.PERFECT_FIFTH\n",
    "]\n",
    "\n",
    "HARM7 = MAJOR + [JustInterval.HARMONIC_SEVENTH]\n",
    "\n",
    "DOM7 = MAJOR + [JustInterval.PYTHAGOREAN_MINOR_SEVENTH]\n",
    "\n",
    "MAJ7 = MAJOR + [JustInterval.CLASSICAL_MAJOR_SEVENTH]\n",
    "\n",
    "MIN7 = MINOR + [JustInterval.MINOR_SEVENTH]\n",
    "\n",
    "MAJ6 = MAJOR + [JustInterval.MAJOR_SIXTH]\n",
    "\n",
    "MIN6 = MINOR + [JustInterval.MAJOR_SIXTH]\n",
    "\n",
    "MINADD4 = MINOR[:2] + [\n",
    "    JustInterval.PERFECT_FOURTH,\n",
    "    JustInterval.PERFECT_FIFTH\n",
    "]\n",
    "\n",
    "DOM7SUS4 = SUS4 + [JustInterval.PYTHAGOREAN_MINOR_SEVENTH]\n",
    "\n",
    "DIM7 = [\n",
    "    JustInterval.UNISON,\n",
    "    JustInterval.PYTHAGOREAN_MINOR_THIRD,\n",
    "    JustInterval.LARGER_PENTAL_TRITONE,\n",
    "    JustInterval.MAJOR_SIXTH\n",
    "]"
   ]
  },
  {
   "cell_type": "code",
   "execution_count": 4,
   "metadata": {},
   "outputs": [
    {
     "name": "stdout",
     "output_type": "stream",
     "text": [
      "Subminor Third: 7/6, 267\n",
      "Perfect Fifth: 3/2, 702\n",
      "Supermajor Third: 9/7, 435\n",
      "\n",
      "[6, 7, 9]\n"
     ]
    }
   ],
   "source": [
    "SUB_MINOR = [\n",
    "    JustInterval.UNISON,\n",
    "    JustInterval.HARMONIC_SEVENTH - JustInterval.PERFECT_FIFTH,\n",
    "    JustInterval.PERFECT_FIFTH\n",
    "]\n",
    "\n",
    "show_info(SUB_MINOR)"
   ]
  },
  {
   "cell_type": "code",
   "execution_count": 16,
   "metadata": {},
   "outputs": [
    {
     "name": "stdout",
     "output_type": "stream",
     "text": [
      "Pythagorean Minor Third: 32/27, 294\n",
      "Larger Pental Tritone: 64/45, 610\n",
      "Major Sixth: 5/3, 884\n",
      "Minor Third: 6/5, 316\n",
      "Smaller Pental Tritone: 45/32, 590\n",
      "Classical Augmented Second: 75/64, 275\n",
      "\n",
      "[135, 160, 192, 225]\n"
     ]
    }
   ],
   "source": [
    "show_info(DIM7)"
   ]
  },
  {
   "cell_type": "code",
   "execution_count": 5,
   "metadata": {},
   "outputs": [
    {
     "name": "stdout",
     "output_type": "stream",
     "text": [
      "Just Diatonic Semitone: 16/15, 112\n",
      "Small Whole Tone: 10/9, 182\n",
      "Just Chromatic Semitone: 25/24, 71\n",
      "\n",
      "[45, 48, 50]\n"
     ]
    }
   ],
   "source": [
    "show_info([JustInterval.MAJOR_SECOND, JustInterval.MINOR_THIRD, JustInterval.MAJOR_THIRD])"
   ]
  },
  {
   "cell_type": "code",
   "execution_count": 12,
   "metadata": {},
   "outputs": [
    {
     "name": "stdout",
     "output_type": "stream",
     "text": [
      "Minor Third: 6/5, 316\n",
      "Classical Diminished Fifth: 36/25, 631\n",
      "Pythagorean Major Sixth: 27/16, 906\n",
      "Minor Third: 6/5, 316\n",
      "Smaller Pental Tritone: 45/32, 590\n",
      "Classical Augmented Second: 75/64, 275\n",
      "\n",
      "[400, 480, 576, 675]\n"
     ]
    }
   ],
   "source": [
    "show_info(\n",
    "    [\n",
    "        JustInterval.UNISON,\n",
    "        JustInterval.MINOR_THIRD,\n",
    "        JustInterval.MINOR_THIRD + JustInterval.MINOR_THIRD,\n",
    "        JustInterval.MINOR_THIRD + JustInterval.MINOR_THIRD + JustInterval.CLASSICAL_AUGMENTED_SECOND\n",
    "    ]\n",
    ")"
   ]
  },
  {
   "cell_type": "code",
   "execution_count": 20,
   "metadata": {},
   "outputs": [
    {
     "name": "stdout",
     "output_type": "stream",
     "text": [
      "Minor Third: 6/5, 316\n",
      "Perfect Fourth: 4/3, 498\n",
      "Minor Sixth: 8/5, 814\n",
      "Small Whole Tone: 10/9, 182\n",
      "Perfect Fourth: 4/3, 498\n",
      "Minor Third: 6/5, 316\n",
      "\n",
      "[15, 18, 10, 12]\n"
     ]
    }
   ],
   "source": [
    "show_info(MIN7[2:] + MIN7[:2])"
   ]
  },
  {
   "cell_type": "code",
   "execution_count": 22,
   "metadata": {},
   "outputs": [
    {
     "name": "stdout",
     "output_type": "stream",
     "text": [
      "Major Second: 9/8, 204\n",
      "Perfect Fourth: 4/3, 498\n",
      "Pythagorean Major Sixth: 27/16, 906\n",
      "Pythagorean Minor Third: 32/27, 294\n",
      "Perfect Fifth: 3/2, 702\n",
      "81/64\n",
      "\n",
      "[48, 54, 64, 81]\n"
     ]
    }
   ],
   "source": [
    "show_info([JustInterval.UNISON, JustInterval.MAJOR_SECOND, JustInterval.PERFECT_FOURTH, JustInterval.PYTHAGOREAN_MAJOR_SIXTH])"
   ]
  },
  {
   "cell_type": "code",
   "execution_count": null,
   "metadata": {},
   "outputs": [],
   "source": [
    "show_info([\n",
    "    JustInterval.UNISON - JustInterval.JUST_DIATONIC_SEMITONE,\n",
    "    JustInterval\n",
    "])"
   ]
  },
  {
   "cell_type": "code",
   "execution_count": 240,
   "metadata": {},
   "outputs": [
    {
     "data": {
      "text/plain": [
       "Small Whole Tone: 10/9, 182"
      ]
     },
     "execution_count": 240,
     "metadata": {},
     "output_type": "execute_result"
    }
   ],
   "source": [
    "JustInterval.from_ratio(Fraction(20,18))"
   ]
  },
  {
   "cell_type": "markdown",
   "metadata": {},
   "source": [
    "# nice fifths and seconds (stacked pure fifths)\n",
    "pythagorean minor third"
   ]
  },
  {
   "cell_type": "code",
   "execution_count": 161,
   "metadata": {},
   "outputs": [
    {
     "name": "stdout",
     "output_type": "stream",
     "text": [
      "Major Second: 9/8, 204\n",
      "Perfect Fourth: 4/3, 498\n",
      "Perfect Fifth: 3/2, 702\n",
      "Pythagorean Minor Third: 32/27, 294\n",
      "Perfect Fourth: 4/3, 498\n",
      "Major Second: 9/8, 204\n",
      "\n",
      "[24, 27, 32, 36]\n"
     ]
    }
   ],
   "source": [
    "intervals = [\n",
    "    JustInterval.UNISON,\n",
    "    JustInterval.MAJOR_SECOND,\n",
    "    JustInterval.PERFECT_FOURTH,\n",
    "    JustInterval.PERFECT_FIFTH,\n",
    "]\n",
    "\n",
    "# for e in intervals:\n",
    "\n",
    "#     print(e)\n",
    "for e in get_internal_intervals(intervals):\n",
    "    print(e)\n",
    "\n",
    "print()\n",
    "\n",
    "print(get_proportions(intervals))"
   ]
  },
  {
   "cell_type": "code",
   "execution_count": 162,
   "metadata": {},
   "outputs": [],
   "source": [
    "intervals = [\n",
    "    JustInterval.UNISON,\n",
    "    JustInterval.MAJOR_SECOND,\n",
    "    JustInterval.PERFECT_FOURTH,\n",
    "    JustInterval.PERFECT_FIFTH,\n",
    "]"
   ]
  },
  {
   "cell_type": "code",
   "execution_count": 23,
   "metadata": {},
   "outputs": [
    {
     "name": "stdout",
     "output_type": "stream",
     "text": [
      "Major Second: 9/8, 204\n",
      "Major Third: 5/4, 386\n",
      "Perfect Fifth: 3/2, 702\n",
      "Small Whole Tone: 10/9, 182\n",
      "Perfect Fourth: 4/3, 498\n",
      "Minor Third: 6/5, 316\n",
      "\n",
      "[8, 9, 10, 12]\n"
     ]
    }
   ],
   "source": [
    "show_info(ADD9)"
   ]
  },
  {
   "cell_type": "markdown",
   "metadata": {},
   "source": [
    "# nice second, minor third, fifth\n",
    "imperfect fourth from root"
   ]
  },
  {
   "cell_type": "code",
   "execution_count": 163,
   "metadata": {},
   "outputs": [
    {
     "name": "stdout",
     "output_type": "stream",
     "text": [
      "Major Second: 9/8, 204\n",
      "Imperfect Fourth: 27/20, 520\n",
      "Perfect Fifth: 3/2, 702\n",
      "Minor Third: 6/5, 316\n",
      "Perfect Fourth: 4/3, 498\n",
      "Small Whole Tone: 10/9, 182\n",
      "\n",
      "[40, 45, 54, 60]\n"
     ]
    }
   ],
   "source": [
    "intervals = [\n",
    "    JustInterval.UNISON,\n",
    "    JustInterval.MAJOR_SECOND,\n",
    "    JustInterval.MAJOR_SECOND + JustInterval.MINOR_THIRD,\n",
    "    JustInterval.PERFECT_FIFTH,\n",
    "]\n",
    "\n",
    "# for e in intervals:\n",
    "#     print(e)\n",
    "\n",
    "for e in get_internal_intervals(intervals):\n",
    "    print(e)\n",
    "\n",
    "print()\n",
    "\n",
    "print(get_proportions(intervals))"
   ]
  },
  {
   "cell_type": "markdown",
   "metadata": {},
   "source": [
    "# nice fourth, fifth, minor third\n",
    "small whole tone, imperfect fourth"
   ]
  },
  {
   "cell_type": "code",
   "execution_count": 164,
   "metadata": {},
   "outputs": [
    {
     "name": "stdout",
     "output_type": "stream",
     "text": [
      "Small Whole Tone: 10/9, 182\n",
      "Perfect Fourth: 4/3, 498\n",
      "Perfect Fifth: 3/2, 702\n",
      "Minor Third: 6/5, 316\n",
      "Imperfect Fourth: 27/20, 520\n",
      "Major Second: 9/8, 204\n",
      "\n",
      "[18, 20, 24, 27]\n"
     ]
    }
   ],
   "source": [
    "intervals = [\n",
    "    JustInterval.UNISON,\n",
    "    JustInterval.PERFECT_FOURTH - JustInterval.MINOR_THIRD,\n",
    "    JustInterval.PERFECT_FOURTH,\n",
    "    JustInterval.PERFECT_FIFTH,\n",
    "]\n",
    "\n",
    "# for e in intervals:\n",
    "#     print(e)\n",
    "\n",
    "for e in get_internal_intervals(intervals):\n",
    "    print(e)\n",
    "\n",
    "print()\n",
    "\n",
    "print(get_proportions(intervals))"
   ]
  },
  {
   "cell_type": "markdown",
   "metadata": {},
   "source": [
    "# nice fourths, minor third\n",
    "imperfect fifth"
   ]
  },
  {
   "cell_type": "code",
   "execution_count": 165,
   "metadata": {},
   "outputs": [
    {
     "name": "stdout",
     "output_type": "stream",
     "text": [
      "Small Whole Tone: 10/9, 182\n",
      "Perfect Fourth: 4/3, 498\n",
      "Imperfect Fifth: 40/27, 680\n",
      "Minor Third: 6/5, 316\n",
      "Perfect Fourth: 4/3, 498\n",
      "Small Whole Tone: 10/9, 182\n",
      "\n",
      "[27, 30, 36, 40]\n"
     ]
    }
   ],
   "source": [
    "intervals = [\n",
    "    JustInterval.UNISON,\n",
    "    JustInterval.PERFECT_FOURTH - JustInterval.MINOR_THIRD,\n",
    "    JustInterval.PERFECT_FOURTH,\n",
    "    JustInterval.PERFECT_FOURTH + JustInterval.PERFECT_FOURTH - JustInterval.MINOR_THIRD,\n",
    "]\n",
    "\n",
    "# for e in intervals:\n",
    "#     print(e)\n",
    "\n",
    "for e in get_internal_intervals(intervals):\n",
    "    print(e)\n",
    "\n",
    "print()\n",
    "\n",
    "print(get_proportions(intervals))"
   ]
  },
  {
   "cell_type": "code",
   "execution_count": 166,
   "metadata": {},
   "outputs": [
    {
     "data": {
      "text/plain": [
       "Minor Sixth: 8/5, 814"
      ]
     },
     "execution_count": 166,
     "metadata": {},
     "output_type": "execute_result"
    }
   ],
   "source": [
    "JustInterval.from_ratio(Fraction(8, 5))"
   ]
  },
  {
   "cell_type": "code",
   "execution_count": 1,
   "metadata": {},
   "outputs": [
    {
     "name": "stdout",
     "output_type": "stream",
     "text": [
      "C-2 = 0\n",
      "Cs-2 = 1\n",
      "D-2 = 2\n",
      "Ds-2 = 3\n",
      "E-2 = 4\n",
      "F-2 = 5\n",
      "Fs-2 = 6\n",
      "G-2 = 7\n",
      "Gs-2 = 8\n",
      "A-2 = 9\n",
      "As-2 = 10\n",
      "B-2 = 11\n",
      "C-1 = 12\n",
      "Cs-1 = 13\n",
      "D-1 = 14\n",
      "Ds-1 = 15\n",
      "E-1 = 16\n",
      "F-1 = 17\n",
      "Fs-1 = 18\n",
      "G-1 = 19\n",
      "Gs-1 = 20\n",
      "A-1 = 21\n",
      "As-1 = 22\n",
      "B-1 = 23\n",
      "C0 = 24\n",
      "Cs0 = 25\n",
      "D0 = 26\n",
      "Ds0 = 27\n",
      "E0 = 28\n",
      "F0 = 29\n",
      "Fs0 = 30\n",
      "G0 = 31\n",
      "Gs0 = 32\n",
      "A0 = 33\n",
      "As0 = 34\n",
      "B0 = 35\n",
      "C1 = 36\n",
      "Cs1 = 37\n",
      "D1 = 38\n",
      "Ds1 = 39\n",
      "E1 = 40\n",
      "F1 = 41\n",
      "Fs1 = 42\n",
      "G1 = 43\n",
      "Gs1 = 44\n",
      "A1 = 45\n",
      "As1 = 46\n",
      "B1 = 47\n",
      "C2 = 48\n",
      "Cs2 = 49\n",
      "D2 = 50\n",
      "Ds2 = 51\n",
      "E2 = 52\n",
      "F2 = 53\n",
      "Fs2 = 54\n",
      "G2 = 55\n",
      "Gs2 = 56\n",
      "A2 = 57\n",
      "As2 = 58\n",
      "B2 = 59\n",
      "C3 = 60\n",
      "Cs3 = 61\n",
      "D3 = 62\n",
      "Ds3 = 63\n",
      "E3 = 64\n",
      "F3 = 65\n",
      "Fs3 = 66\n",
      "G3 = 67\n",
      "Gs3 = 68\n",
      "A3 = 69\n",
      "As3 = 70\n",
      "B3 = 71\n",
      "C4 = 72\n",
      "Cs4 = 73\n",
      "D4 = 74\n",
      "Ds4 = 75\n",
      "E4 = 76\n",
      "F4 = 77\n",
      "Fs4 = 78\n",
      "G4 = 79\n",
      "Gs4 = 80\n",
      "A4 = 81\n",
      "As4 = 82\n",
      "B4 = 83\n",
      "C5 = 84\n",
      "Cs5 = 85\n",
      "D5 = 86\n",
      "Ds5 = 87\n",
      "E5 = 88\n",
      "F5 = 89\n",
      "Fs5 = 90\n",
      "G5 = 91\n",
      "Gs5 = 92\n",
      "A5 = 93\n",
      "As5 = 94\n",
      "B5 = 95\n",
      "C6 = 96\n",
      "Cs6 = 97\n",
      "D6 = 98\n",
      "Ds6 = 99\n",
      "E6 = 100\n",
      "F6 = 101\n",
      "Fs6 = 102\n",
      "G6 = 103\n",
      "Gs6 = 104\n",
      "A6 = 105\n",
      "As6 = 106\n",
      "B6 = 107\n",
      "C7 = 108\n",
      "Cs7 = 109\n",
      "D7 = 110\n",
      "Ds7 = 111\n",
      "E7 = 112\n",
      "F7 = 113\n",
      "Fs7 = 114\n",
      "G7 = 115\n",
      "Gs7 = 116\n",
      "A7 = 117\n",
      "As7 = 118\n",
      "B7 = 119\n"
     ]
    }
   ],
   "source": [
    "from note import PC\n",
    "\n",
    "\n",
    "for i in range(-2, 8):\n",
    "    for pc in PC:\n",
    "        print(f\"{pc.name}{i} = {12*(i+2)+pc.value}\")"
   ]
  },
  {
   "cell_type": "code",
   "execution_count": 167,
   "metadata": {},
   "outputs": [
    {
     "name": "stdout",
     "output_type": "stream",
     "text": [
      "Small Whole Tone: 10/9, 182\n",
      "Perfect Fourth: 4/3, 498\n",
      "Imperfect Fifth: 40/27, 680\n",
      "Minor Third: 6/5, 316\n",
      "Perfect Fourth: 4/3, 498\n",
      "Small Whole Tone: 10/9, 182\n",
      "\n",
      "[27, 30, 36, 40]\n"
     ]
    }
   ],
   "source": [
    "intervals = [\n",
    "    JustInterval.UNISON,\n",
    "    JustInterval.PERFECT_FOURTH - JustInterval.MINOR_THIRD,\n",
    "    JustInterval.PERFECT_FOURTH,\n",
    "    JustInterval.PERFECT_FOURTH\n",
    "    + JustInterval.PERFECT_FOURTH\n",
    "    - JustInterval.MINOR_THIRD,\n",
    "]\n",
    "\n",
    "# for e in intervals:\n",
    "#     print(e)\n",
    "\n",
    "for e in get_internal_intervals(intervals):\n",
    "    print(e)\n",
    "\n",
    "print()\n",
    "\n",
    "print(get_proportions(intervals))"
   ]
  },
  {
   "cell_type": "code",
   "execution_count": 168,
   "metadata": {},
   "outputs": [
    {
     "name": "stdout",
     "output_type": "stream",
     "text": [
      "Major Third: 5/4, 386\n",
      "Septimal Subfifth: 35/24, 653\n",
      "Harmonic Seventh: 7/4, 969\n",
      "Subminor Third: 7/6, 267\n",
      "Huygen's Tritone: 7/5, 583\n",
      "Minor Third: 6/5, 316\n",
      "\n",
      "[24, 30, 35, 42]\n"
     ]
    }
   ],
   "source": [
    "intervals = [\n",
    "    JustInterval.UNISON,\n",
    "    JustInterval.MAJOR_THIRD,\n",
    "    JustInterval.HARMONIC_SEVENTH - JustInterval.MINOR_THIRD,\n",
    "    JustInterval.HARMONIC_SEVENTH\n",
    "]\n",
    "\n",
    "# for e in intervals:\n",
    "#     print(e)\n",
    "\n",
    "for e in get_internal_intervals(intervals):\n",
    "    print(e)\n",
    "\n",
    "print()\n",
    "\n",
    "print(get_proportions(intervals))"
   ]
  },
  {
   "cell_type": "code",
   "execution_count": 169,
   "metadata": {},
   "outputs": [
    {
     "name": "stdout",
     "output_type": "stream",
     "text": [
      "Minor Third: 6/5, 316\n",
      "Perfect Fifth: 3/2, 702\n",
      "Supermajor Sixth: 12/7, 933\n",
      "Major Third: 5/4, 386\n",
      "Euler's Tritone: 10/7, 617\n",
      "Supermajor Second: 8/7, 231\n",
      "\n",
      "[140, 168, 105, 120]\n"
     ]
    }
   ],
   "source": [
    "intervals = [\n",
    "    JustInterval.UNISON - JustInterval.PERFECT_FIFTH,\n",
    "    JustInterval.UNISON - JustInterval.MAJOR_THIRD,\n",
    "    JustInterval.UNISON,\n",
    "    JustInterval.OCTAVE - JustInterval.HARMONIC_SEVENTH\n",
    "]\n",
    "\n",
    "# for e in intervals:\n",
    "#     print(e)\n",
    "\n",
    "for e in get_internal_intervals(intervals):\n",
    "    print(e)\n",
    "\n",
    "print()\n",
    "\n",
    "print(get_proportions(intervals))"
   ]
  },
  {
   "cell_type": "code",
   "execution_count": 170,
   "metadata": {},
   "outputs": [
    {
     "name": "stdout",
     "output_type": "stream",
     "text": [
      "Major Third: 5/4, 386\n",
      "Perfect Fifth: 3/2, 702\n",
      "Supermajor Second: 8/7, 231\n",
      "Minor Third: 6/5, 316\n",
      "32/35\n",
      "16/21\n",
      "\n",
      "[28, 35, 42, 32]\n"
     ]
    }
   ],
   "source": [
    "intervals = [\n",
    "    JustInterval.UNISON,\n",
    "    JustInterval.MAJOR_THIRD,\n",
    "    JustInterval.PERFECT_FIFTH,\n",
    "    JustInterval.OCTAVE - JustInterval.HARMONIC_SEVENTH,\n",
    "]\n",
    "\n",
    "# for e in intervals:\n",
    "#     print(e)\n",
    "\n",
    "for e in get_internal_intervals(intervals):\n",
    "    print(e)\n",
    "\n",
    "print()\n",
    "\n",
    "print(get_proportions(intervals))"
   ]
  },
  {
   "cell_type": "code",
   "execution_count": 171,
   "metadata": {},
   "outputs": [
    {
     "name": "stdout",
     "output_type": "stream",
     "text": [
      "Major Second: 9/8, 204\n",
      "Perfect Fourth: 4/3, 498\n",
      "Pythagorean Major Sixth: 27/16, 906\n",
      "Pythagorean Minor Third: 32/27, 294\n",
      "Perfect Fifth: 3/2, 702\n",
      "81/64\n",
      "\n",
      "[48, 54, 64, 81]\n"
     ]
    }
   ],
   "source": [
    "intervals = [\n",
    "    JustInterval.UNISON,\n",
    "    JustInterval.MAJOR_SECOND,\n",
    "    JustInterval.PERFECT_FOURTH,\n",
    "    JustInterval.PYTHAGOREAN_MAJOR_SIXTH,\n",
    "]\n",
    "\n",
    "# for e in intervals:\n",
    "#     print(e)\n",
    "\n",
    "for e in get_internal_intervals(intervals):\n",
    "    print(e)\n",
    "\n",
    "print()\n",
    "\n",
    "print(get_proportions(intervals))"
   ]
  },
  {
   "cell_type": "code",
   "execution_count": 172,
   "metadata": {},
   "outputs": [
    {
     "name": "stdout",
     "output_type": "stream",
     "text": [
      "Major Third: 5/4, 386\n",
      "Perfect Fifth: 3/2, 702\n",
      "Pythagorean Minor Seventh: 16/9, 996\n",
      "Minor Third: 6/5, 316\n",
      "Larger Pental Tritone: 64/45, 610\n",
      "Pythagorean Minor Third: 32/27, 294\n",
      "\n",
      "[36, 45, 54, 64]\n"
     ]
    }
   ],
   "source": [
    "intervals = [\n",
    "    JustInterval.UNISON,\n",
    "    JustInterval.MAJOR_THIRD,\n",
    "    JustInterval.PERFECT_FIFTH,\n",
    "    JustInterval.PYTHAGOREAN_MINOR_SEVENTH,\n",
    "]\n",
    "\n",
    "# for e in intervals:\n",
    "#     print(e)\n",
    "\n",
    "for e in get_internal_intervals(intervals):\n",
    "    print(e)\n",
    "\n",
    "print()\n",
    "\n",
    "print(get_proportions(intervals))"
   ]
  },
  {
   "cell_type": "code",
   "execution_count": 173,
   "metadata": {},
   "outputs": [
    {
     "name": "stdout",
     "output_type": "stream",
     "text": [
      "Major Third: 5/4, 386\n",
      "Perfect Fifth: 3/2, 702\n",
      "Minor Third: 6/5, 316\n",
      "\n",
      "[4, 5, 6]\n"
     ]
    }
   ],
   "source": [
    "intervals = [\n",
    "    JustInterval.UNISON,\n",
    "    JustInterval.MAJOR_THIRD,\n",
    "    JustInterval.MINOR_SEVENTH - JustInterval.MINOR_THIRD\n",
    "]\n",
    "\n",
    "# for e in intervals:\n",
    "#     print(e)\n",
    "\n",
    "for e in get_internal_intervals(intervals):\n",
    "    print(e)\n",
    "\n",
    "print()\n",
    "\n",
    "print(get_proportions(intervals))"
   ]
  },
  {
   "cell_type": "code",
   "execution_count": 174,
   "metadata": {},
   "outputs": [
    {
     "data": {
      "text/plain": [
       "Pythagorean Minor Third: 32/27, 294"
      ]
     },
     "execution_count": 174,
     "metadata": {},
     "output_type": "execute_result"
    }
   ],
   "source": [
    "JustInterval.PYTHAGOREAN_MINOR_SEVENTH-JustInterval.PERFECT_FIFTH"
   ]
  },
  {
   "cell_type": "code",
   "execution_count": 175,
   "metadata": {},
   "outputs": [
    {
     "name": "stdout",
     "output_type": "stream",
     "text": [
      "Major Second: 9/8, 204\n",
      "Major Third: 5/4, 386\n",
      "Perfect Fifth: 3/2, 702\n",
      "Small Whole Tone: 10/9, 182\n",
      "Perfect Fourth: 4/3, 498\n",
      "Minor Third: 6/5, 316\n",
      "\n",
      "[8, 9, 10, 12]\n"
     ]
    }
   ],
   "source": [
    "intervals = [\n",
    "    JustInterval.UNISON,\n",
    "    JustInterval.MAJOR_SECOND,\n",
    "    JustInterval.MAJOR_THIRD,\n",
    "    JustInterval.PERFECT_FIFTH\n",
    "]\n",
    "\n",
    "# for e in intervals:\n",
    "#     print(e)\n",
    "\n",
    "for e in get_internal_intervals(intervals):\n",
    "    print(e)\n",
    "\n",
    "print()\n",
    "\n",
    "print(get_proportions(intervals))"
   ]
  },
  {
   "cell_type": "code",
   "execution_count": 176,
   "metadata": {},
   "outputs": [
    {
     "name": "stdout",
     "output_type": "stream",
     "text": [
      "Major Third: 5/4, 386\n",
      "Perfect Fifth: 3/2, 702\n",
      "Major Sixth: 5/3, 884\n",
      "Minor Third: 6/5, 316\n",
      "Perfect Fourth: 4/3, 498\n",
      "Small Whole Tone: 10/9, 182\n",
      "\n",
      "[12, 15, 18, 20]\n"
     ]
    }
   ],
   "source": [
    "intervals = [\n",
    "    JustInterval.UNISON,\n",
    "    JustInterval.MAJOR_THIRD,\n",
    "    JustInterval.PERFECT_FIFTH,\n",
    "    JustInterval.MAJOR_SIXTH,\n",
    "]\n",
    "\n",
    "# for e in intervals:\n",
    "#     print(e)\n",
    "\n",
    "for e in get_internal_intervals(intervals):\n",
    "    print(e)\n",
    "\n",
    "print()\n",
    "\n",
    "print(get_proportions(intervals))"
   ]
  },
  {
   "cell_type": "code",
   "execution_count": null,
   "metadata": {},
   "outputs": [
    {
     "name": "stdout",
     "output_type": "stream",
     "text": [
      "Minor Third: 6/5, 316\n",
      "Huygen's Tritone: 7/5, 583\n",
      "Major Sixth: 5/3, 884\n",
      "Subminor Third: 7/6, 267\n",
      "Classical Augmented Fourth: 25/18, 569\n",
      "Quasi-tempered Minor Third: 25/21, 302\n",
      "\n",
      "[15, 18, 21, 25]\n"
     ]
    }
   ],
   "source": [
    "intervals = [\n",
    "    JustInterval.UNISON,\n",
    "    JustInterval.MINOR_THIRD,\n",
    "    JustInterval.HUYGENS_TRITONE,\n",
    "    JustInterval.MAJOR_SIXTH,\n",
    "]\n",
    "\n",
    "# for e in intervals:\n",
    "#     print(e)\n",
    "\n",
    "for e in get_internal_intervals(intervals):\n",
    "    print(e)\n",
    "\n",
    "print()\n",
    "\n",
    "print(get_proportions(intervals))"
   ]
  },
  {
   "cell_type": "code",
   "execution_count": 178,
   "metadata": {},
   "outputs": [
    {
     "ename": "TypeError",
     "evalue": "unsupported operand type(s) for -: 'Fraction' and 'JustInterval'",
     "output_type": "error",
     "traceback": [
      "\u001b[0;31m---------------------------------------------------------------------------\u001b[0m",
      "\u001b[0;31mTypeError\u001b[0m                                 Traceback (most recent call last)",
      "Cell \u001b[0;32mIn[178], line 11\u001b[0m\n\u001b[1;32m      1\u001b[0m intervals \u001b[38;5;241m=\u001b[39m [\n\u001b[1;32m      2\u001b[0m     JustInterval\u001b[38;5;241m.\u001b[39mUNISON,\n\u001b[1;32m      3\u001b[0m     JustInterval\u001b[38;5;241m.\u001b[39mSUBMINOR_THIRD,\n\u001b[1;32m      4\u001b[0m     JustInterval\u001b[38;5;241m.\u001b[39mSUBMINOR_THIRD \u001b[38;5;241m+\u001b[39m JustInterval\u001b[38;5;241m.\u001b[39mMINOR_THIRD,\n\u001b[1;32m      5\u001b[0m     JustInterval\u001b[38;5;241m.\u001b[39mSUBMINOR_THIRD \u001b[38;5;241m+\u001b[39m JustInterval\u001b[38;5;241m.\u001b[39mMINOR_THIRD \u001b[38;5;241m+\u001b[39m JustInterval\u001b[38;5;241m.\u001b[39mSUBMINOR_THIRD,\n\u001b[1;32m      6\u001b[0m ]\n\u001b[1;32m      8\u001b[0m \u001b[38;5;66;03m# for e in intervals:\u001b[39;00m\n\u001b[1;32m      9\u001b[0m \u001b[38;5;66;03m#     print(e)\u001b[39;00m\n\u001b[0;32m---> 11\u001b[0m \u001b[38;5;28;01mfor\u001b[39;00m e \u001b[38;5;129;01min\u001b[39;00m get_internal_intervals(intervals):\n\u001b[1;32m     12\u001b[0m     \u001b[38;5;28mprint\u001b[39m(e)\n\u001b[1;32m     14\u001b[0m \u001b[38;5;28mprint\u001b[39m()\n",
      "Cell \u001b[0;32mIn[160], line 99\u001b[0m, in \u001b[0;36mget_internal_intervals\u001b[0;34m(intervals)\u001b[0m\n\u001b[1;32m     98\u001b[0m \u001b[38;5;28;01mdef\u001b[39;00m \u001b[38;5;21mget_internal_intervals\u001b[39m(intervals: \u001b[38;5;28mlist\u001b[39m[JustInterval]) \u001b[38;5;241m-\u001b[39m\u001b[38;5;241m>\u001b[39m \u001b[38;5;28mlist\u001b[39m[JustInterval\u001b[38;5;241m|\u001b[39mFraction]:\n\u001b[0;32m---> 99\u001b[0m     \u001b[38;5;28;01mreturn\u001b[39;00m [high \u001b[38;5;241m-\u001b[39m low \u001b[38;5;28;01mfor\u001b[39;00m low, high \u001b[38;5;129;01min\u001b[39;00m combinations(intervals, \u001b[38;5;241m2\u001b[39m)]\n",
      "\u001b[0;31mTypeError\u001b[0m: unsupported operand type(s) for -: 'Fraction' and 'JustInterval'"
     ]
    }
   ],
   "source": [
    "intervals = [\n",
    "    JustInterval.UNISON,\n",
    "    JustInterval.SUBMINOR_THIRD,\n",
    "    JustInterval.SUBMINOR_THIRD + JustInterval.MINOR_THIRD,\n",
    "    JustInterval.SUBMINOR_THIRD + JustInterval.MINOR_THIRD + JustInterval.SUBMINOR_THIRD,\n",
    "]\n",
    "\n",
    "# for e in intervals:\n",
    "#     print(e)\n",
    "\n",
    "for e in get_internal_intervals(intervals):\n",
    "    print(e)\n",
    "\n",
    "print()\n",
    "\n",
    "print(get_proportions(intervals))"
   ]
  },
  {
   "cell_type": "code",
   "execution_count": 153,
   "metadata": {},
   "outputs": [
    {
     "data": {
      "text/plain": [
       "Just Diatonic Semitone: 16/15, 112"
      ]
     },
     "execution_count": 153,
     "metadata": {},
     "output_type": "execute_result"
    }
   ],
   "source": [
    "JustInterval.OCTAVE - JustInterval.CLASSICAL_MAJOR_SEVENTH"
   ]
  },
  {
   "cell_type": "code",
   "execution_count": 154,
   "metadata": {},
   "outputs": [
    {
     "data": {
      "text/plain": [
       "Just Chromatic Semitone: 25/24, 71"
      ]
     },
     "execution_count": 154,
     "metadata": {},
     "output_type": "execute_result"
    }
   ],
   "source": [
    "JustInterval.JUST_CHROMATIC_SEMITONE"
   ]
  },
  {
   "cell_type": "code",
   "execution_count": 179,
   "metadata": {},
   "outputs": [
    {
     "name": "stdout",
     "output_type": "stream",
     "text": [
      "Major Second: 9/8, 204\n",
      "Major Third: 5/4, 386\n",
      "Perfect Fifth: 3/2, 702\n",
      "Pythagorean Minor Seventh: 16/9, 996\n",
      "Small Whole Tone: 10/9, 182\n",
      "Perfect Fourth: 4/3, 498\n",
      "Pythagorean Minor Sixth: 128/81, 792\n",
      "Minor Third: 6/5, 316\n",
      "Larger Pental Tritone: 64/45, 610\n",
      "Pythagorean Minor Third: 32/27, 294\n",
      "\n",
      "[72, 81, 90, 108, 128]\n"
     ]
    }
   ],
   "source": [
    "intervals = [\n",
    "    JustInterval.UNISON,\n",
    "    JustInterval.MAJOR_SECOND,\n",
    "    JustInterval.MAJOR_THIRD,\n",
    "    JustInterval.PERFECT_FIFTH,\n",
    "    JustInterval.PYTHAGOREAN_MINOR_SEVENTH,\n",
    "]\n",
    "\n",
    "# for e in intervals:\n",
    "#     print(e)\n",
    "\n",
    "for e in get_internal_intervals(intervals):\n",
    "    print(e)\n",
    "\n",
    "print()\n",
    "\n",
    "print(get_proportions(intervals))"
   ]
  },
  {
   "cell_type": "code",
   "execution_count": null,
   "metadata": {},
   "outputs": [
    {
     "name": "stdout",
     "output_type": "stream",
     "text": [
      "Major Third: 5/4, 386\n",
      "Perfect Fifth: 3/2, 702\n",
      "Harmonic Seventh: 7/4, 969\n",
      "Major Second: 9/8, 204\n",
      "Minor Third: 6/5, 316\n",
      "Huygen's Tritone: 7/5, 583\n",
      "Minor Seventh: 9/5, 1018\n",
      "Subminor Third: 7/6, 267\n",
      "Perfect Fifth: 3/2, 702\n",
      "Supermajor Third: 9/7, 435\n",
      "\n",
      "[8, 5, 6, 7, 9]\n"
     ]
    }
   ],
   "source": [
    "intervals = [\n",
    "    JustInterval.UNISON - JustInterval.MAJOR_THIRD,\n",
    "    JustInterval.UNISON,\n",
    "    JustInterval.MINOR_THIRD,\n",
    "    JustInterval.HUYGENS_TRITONE,\n",
    "    JustInterval.MINOR_SEVENTH\n",
    "]\n",
    "\n",
    "# for e in intervals:\n",
    "#     print(e)\n",
    "\n",
    "for e in get_internal_intervals(intervals):\n",
    "    print(e)\n",
    "\n",
    "print()\n",
    "\n",
    "print(get_proportions(intervals))"
   ]
  },
  {
   "cell_type": "code",
   "execution_count": 190,
   "metadata": {},
   "outputs": [
    {
     "name": "stdout",
     "output_type": "stream",
     "text": [
      "Major Third: 5/4, 386\n",
      "Perfect Fifth: 3/2, 702\n",
      "Pythagorean Minor Seventh: 16/9, 996\n",
      "Major Second: 9/8, 204\n",
      "Minor Third: 6/5, 316\n",
      "Larger Pental Tritone: 64/45, 610\n",
      "Minor Seventh: 9/5, 1018\n",
      "Pythagorean Minor Third: 32/27, 294\n",
      "Perfect Fifth: 3/2, 702\n",
      "81/64\n",
      "\n",
      "[72, 45, 54, 64, 81]\n"
     ]
    }
   ],
   "source": [
    "intervals = [\n",
    "    JustInterval.UNISON - JustInterval.MAJOR_THIRD,\n",
    "    JustInterval.UNISON,\n",
    "    JustInterval.MINOR_THIRD,\n",
    "    JustInterval.LARGER_PENTAL_TRITONE,\n",
    "    JustInterval.MINOR_SEVENTH,\n",
    "]\n",
    "\n",
    "# for e in intervals:\n",
    "#     print(e)\n",
    "\n",
    "for e in get_internal_intervals(intervals):\n",
    "    print(e)\n",
    "\n",
    "print()\n",
    "\n",
    "print(get_proportions(intervals))"
   ]
  },
  {
   "cell_type": "code",
   "execution_count": null,
   "metadata": {},
   "outputs": [
    {
     "name": "stdout",
     "output_type": "stream",
     "text": [
      "Minor Third: 6/5, 316\n",
      "Huygen's Tritone: 7/5, 583\n",
      "Minor Seventh: 9/5, 1018\n",
      "Subminor Third: 7/6, 267\n",
      "Perfect Fifth: 3/2, 702\n",
      "Supermajor Third: 9/7, 435\n",
      "\n",
      "[5, 6, 7, 9]\n"
     ]
    }
   ],
   "source": [
    "intervals = [\n",
    "    JustInterval.UNISON,\n",
    "    JustInterval.MINOR_THIRD,\n",
    "    JustInterval.HUYGENS_TRITONE,\n",
    "    JustInterval.MINOR_SEVENTH\n",
    "]\n",
    "\n",
    "# for e in intervals:\n",
    "#     print(e)\n",
    "\n",
    "for e in get_internal_intervals(intervals):\n",
    "    print(e)\n",
    "\n",
    "print()\n",
    "\n",
    "print(get_proportions(intervals))"
   ]
  },
  {
   "cell_type": "code",
   "execution_count": 191,
   "metadata": {},
   "outputs": [
    {
     "name": "stdout",
     "output_type": "stream",
     "text": [
      "Minor Third: 6/5, 316\n",
      "Perfect Fifth: 3/2, 702\n",
      "Major Sixth: 5/3, 884\n",
      "Major Third: 5/4, 386\n",
      "Classical Augmented Fourth: 25/18, 569\n",
      "Small Whole Tone: 10/9, 182\n",
      "\n",
      "[30, 36, 45, 50]\n"
     ]
    }
   ],
   "source": [
    "intervals = [\n",
    "    JustInterval.UNISON,\n",
    "    JustInterval.MINOR_THIRD,\n",
    "    JustInterval.PERFECT_FIFTH,\n",
    "    JustInterval.MAJOR_SIXTH,\n",
    "]\n",
    "\n",
    "# for e in intervals:\n",
    "#     print(e)\n",
    "\n",
    "for e in get_internal_intervals(intervals):\n",
    "    print(e)\n",
    "\n",
    "print()\n",
    "\n",
    "print(get_proportions(intervals))"
   ]
  }
 ],
 "metadata": {
  "kernelspec": {
   "display_name": "midi",
   "language": "python",
   "name": "python3"
  },
  "language_info": {
   "codemirror_mode": {
    "name": "ipython",
    "version": 3
   },
   "file_extension": ".py",
   "mimetype": "text/x-python",
   "name": "python",
   "nbconvert_exporter": "python",
   "pygments_lexer": "ipython3",
   "version": "3.12.4"
  }
 },
 "nbformat": 4,
 "nbformat_minor": 2
}
