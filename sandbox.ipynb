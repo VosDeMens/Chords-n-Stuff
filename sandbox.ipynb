{
 "cells": [
  {
   "cell_type": "code",
   "execution_count": 1,
   "metadata": {},
   "outputs": [],
   "source": [
    "from src.guitar_practice import GuitarPractice\n",
    "from src.logic_interface import panic\n",
    "from src.audio_to_notes import extract_note_sequence\n",
    "from src.audio_io import record\n",
    "from src.my_types import *"
   ]
  },
  {
   "cell_type": "code",
   "execution_count": 2,
   "metadata": {},
   "outputs": [],
   "source": [
    "gp = GuitarPractice()"
   ]
  },
  {
   "cell_type": "code",
   "execution_count": 3,
   "metadata": {},
   "outputs": [
    {
     "name": "stdout",
     "output_type": "stream",
     "text": [
      "5.4\n"
     ]
    }
   ],
   "source": [
    "gp.start(3, 20, 2)"
   ]
  },
  {
   "cell_type": "code",
   "execution_count": 8,
   "metadata": {},
   "outputs": [
    {
     "ename": "KeyboardInterrupt",
     "evalue": "",
     "output_type": "error",
     "traceback": [
      "\u001b[0;31m---------------------------------------------------------------------------\u001b[0m",
      "\u001b[0;31mKeyboardInterrupt\u001b[0m                         Traceback (most recent call last)",
      "Cell \u001b[0;32mIn[8], line 1\u001b[0m\n\u001b[0;32m----> 1\u001b[0m gp\u001b[38;5;241m.\u001b[39mrestart(\u001b[38;5;241m3\u001b[39m, \u001b[38;5;241m2\u001b[39m)\n",
      "File \u001b[0;32m~/Documents/Programmeer dingen/Chords-n-Stuff/src/guitar_practice.py:86\u001b[0m, in \u001b[0;36mGuitarPractice.restart\u001b[0;34m(self, len_sequence, sleep_duration)\u001b[0m\n\u001b[1;32m     84\u001b[0m \u001b[38;5;28;01mfor\u001b[39;00m i \u001b[38;5;129;01min\u001b[39;00m \u001b[38;5;28mrange\u001b[39m(\u001b[38;5;241m0\u001b[39m, \u001b[38;5;28mlen\u001b[39m(history) \u001b[38;5;241m-\u001b[39m (len_sequence \u001b[38;5;241m-\u001b[39m \u001b[38;5;241m1\u001b[39m), len_sequence \u001b[38;5;241m-\u001b[39m \u001b[38;5;241m1\u001b[39m):\n\u001b[1;32m     85\u001b[0m     voicings \u001b[38;5;241m=\u001b[39m [history[i \u001b[38;5;241m+\u001b[39m j] \u001b[38;5;28;01mfor\u001b[39;00m j \u001b[38;5;129;01min\u001b[39;00m \u001b[38;5;28mrange\u001b[39m(\u001b[38;5;241m0\u001b[39m, len_sequence)]\n\u001b[0;32m---> 86\u001b[0m     \u001b[38;5;28mself\u001b[39m\u001b[38;5;241m.\u001b[39mplay_round(voicings, sleep_duration)\n\u001b[1;32m     87\u001b[0m     nr_of_rounds \u001b[38;5;241m+\u001b[39m\u001b[38;5;241m=\u001b[39m \u001b[38;5;241m1\u001b[39m\n\u001b[1;32m     88\u001b[0m \u001b[38;5;28mprint\u001b[39m(\u001b[38;5;124mf\u001b[39m\u001b[38;5;124m\"\u001b[39m\u001b[38;5;132;01m{\u001b[39;00mnr_of_rounds\u001b[38;5;250m \u001b[39m\u001b[38;5;241m/\u001b[39m\u001b[38;5;250m \u001b[39m\u001b[38;5;28mself\u001b[39m\u001b[38;5;241m.\u001b[39mattempts_count\u001b[38;5;250m \u001b[39m\u001b[38;5;241m*\u001b[39m\u001b[38;5;250m \u001b[39m\u001b[38;5;241m10\u001b[39m\u001b[38;5;132;01m:\u001b[39;00m\u001b[38;5;124m.1f\u001b[39m\u001b[38;5;132;01m}\u001b[39;00m\u001b[38;5;124m\"\u001b[39m)\n",
      "File \u001b[0;32m~/Documents/Programmeer dingen/Chords-n-Stuff/src/guitar_practice.py:97\u001b[0m, in \u001b[0;36mGuitarPractice.play_round\u001b[0;34m(self, voicings, sleep_duration)\u001b[0m\n\u001b[1;32m     95\u001b[0m recordings: \u001b[38;5;28mlist\u001b[39m[floatlist] \u001b[38;5;241m=\u001b[39m []\n\u001b[1;32m     96\u001b[0m \u001b[38;5;28;01mfor\u001b[39;00m i, voicing \u001b[38;5;129;01min\u001b[39;00m \u001b[38;5;28menumerate\u001b[39m(voicings):\n\u001b[0;32m---> 97\u001b[0m     recordings\u001b[38;5;241m.\u001b[39mappend(record(sleep_duration))\n\u001b[1;32m     98\u001b[0m     \u001b[38;5;28;01mif\u001b[39;00m i \u001b[38;5;241m<\u001b[39m \u001b[38;5;28mlen\u001b[39m(voicings) \u001b[38;5;241m-\u001b[39m \u001b[38;5;241m1\u001b[39m:\n\u001b[1;32m     99\u001b[0m         peep()\n",
      "File \u001b[0;32m~/Documents/Programmeer dingen/Chords-n-Stuff/src/audio_io.py:34\u001b[0m, in \u001b[0;36mrecord\u001b[0;34m(nr_of_seconds, verbose)\u001b[0m\n\u001b[1;32m     32\u001b[0m \u001b[38;5;28;01mif\u001b[39;00m verbose:\n\u001b[1;32m     33\u001b[0m     \u001b[38;5;28mprint\u001b[39m(\u001b[38;5;124m\"\u001b[39m\u001b[38;5;124mRecording...\u001b[39m\u001b[38;5;124m\"\u001b[39m)\n\u001b[0;32m---> 34\u001b[0m sd\u001b[38;5;241m.\u001b[39mwait()\n\u001b[1;32m     35\u001b[0m \u001b[38;5;28;01mif\u001b[39;00m verbose:\n\u001b[1;32m     36\u001b[0m     \u001b[38;5;28mprint\u001b[39m(\u001b[38;5;124m\"\u001b[39m\u001b[38;5;124mRecording complete.\u001b[39m\u001b[38;5;124m\"\u001b[39m)\n",
      "File \u001b[0;32m/usr/local/Caskroom/miniconda/base/envs/midi/lib/python3.12/site-packages/sounddevice.py:398\u001b[0m, in \u001b[0;36mwait\u001b[0;34m(ignore_errors)\u001b[0m\n\u001b[1;32m    382\u001b[0m \u001b[38;5;250m\u001b[39m\u001b[38;5;124;03m\"\"\"Wait for `play()`/`rec()`/`playrec()` to be finished.\u001b[39;00m\n\u001b[1;32m    383\u001b[0m \n\u001b[1;32m    384\u001b[0m \u001b[38;5;124;03mPlayback/recording can be stopped with a `KeyboardInterrupt`.\u001b[39;00m\n\u001b[0;32m   (...)\u001b[0m\n\u001b[1;32m    395\u001b[0m \n\u001b[1;32m    396\u001b[0m \u001b[38;5;124;03m\"\"\"\u001b[39;00m\n\u001b[1;32m    397\u001b[0m \u001b[38;5;28;01mif\u001b[39;00m _last_callback:\n\u001b[0;32m--> 398\u001b[0m     \u001b[38;5;28;01mreturn\u001b[39;00m _last_callback\u001b[38;5;241m.\u001b[39mwait(ignore_errors)\n",
      "File \u001b[0;32m/usr/local/Caskroom/miniconda/base/envs/midi/lib/python3.12/site-packages/sounddevice.py:2645\u001b[0m, in \u001b[0;36m_CallbackContext.wait\u001b[0;34m(self, ignore_errors)\u001b[0m\n\u001b[1;32m   2639\u001b[0m \u001b[38;5;250m\u001b[39m\u001b[38;5;124;03m\"\"\"Wait for finished_callback.\u001b[39;00m\n\u001b[1;32m   2640\u001b[0m \n\u001b[1;32m   2641\u001b[0m \u001b[38;5;124;03mCan be interrupted with a KeyboardInterrupt.\u001b[39;00m\n\u001b[1;32m   2642\u001b[0m \n\u001b[1;32m   2643\u001b[0m \u001b[38;5;124;03m\"\"\"\u001b[39;00m\n\u001b[1;32m   2644\u001b[0m \u001b[38;5;28;01mtry\u001b[39;00m:\n\u001b[0;32m-> 2645\u001b[0m     \u001b[38;5;28mself\u001b[39m\u001b[38;5;241m.\u001b[39mevent\u001b[38;5;241m.\u001b[39mwait()\n\u001b[1;32m   2646\u001b[0m \u001b[38;5;28;01mfinally\u001b[39;00m:\n\u001b[1;32m   2647\u001b[0m     \u001b[38;5;28mself\u001b[39m\u001b[38;5;241m.\u001b[39mstream\u001b[38;5;241m.\u001b[39mclose(ignore_errors)\n",
      "File \u001b[0;32m/usr/local/Caskroom/miniconda/base/envs/midi/lib/python3.12/threading.py:655\u001b[0m, in \u001b[0;36mEvent.wait\u001b[0;34m(self, timeout)\u001b[0m\n\u001b[1;32m    653\u001b[0m signaled \u001b[38;5;241m=\u001b[39m \u001b[38;5;28mself\u001b[39m\u001b[38;5;241m.\u001b[39m_flag\n\u001b[1;32m    654\u001b[0m \u001b[38;5;28;01mif\u001b[39;00m \u001b[38;5;129;01mnot\u001b[39;00m signaled:\n\u001b[0;32m--> 655\u001b[0m     signaled \u001b[38;5;241m=\u001b[39m \u001b[38;5;28mself\u001b[39m\u001b[38;5;241m.\u001b[39m_cond\u001b[38;5;241m.\u001b[39mwait(timeout)\n\u001b[1;32m    656\u001b[0m \u001b[38;5;28;01mreturn\u001b[39;00m signaled\n",
      "File \u001b[0;32m/usr/local/Caskroom/miniconda/base/envs/midi/lib/python3.12/threading.py:355\u001b[0m, in \u001b[0;36mCondition.wait\u001b[0;34m(self, timeout)\u001b[0m\n\u001b[1;32m    353\u001b[0m \u001b[38;5;28;01mtry\u001b[39;00m:    \u001b[38;5;66;03m# restore state no matter what (e.g., KeyboardInterrupt)\u001b[39;00m\n\u001b[1;32m    354\u001b[0m     \u001b[38;5;28;01mif\u001b[39;00m timeout \u001b[38;5;129;01mis\u001b[39;00m \u001b[38;5;28;01mNone\u001b[39;00m:\n\u001b[0;32m--> 355\u001b[0m         waiter\u001b[38;5;241m.\u001b[39macquire()\n\u001b[1;32m    356\u001b[0m         gotit \u001b[38;5;241m=\u001b[39m \u001b[38;5;28;01mTrue\u001b[39;00m\n\u001b[1;32m    357\u001b[0m     \u001b[38;5;28;01melse\u001b[39;00m:\n",
      "\u001b[0;31mKeyboardInterrupt\u001b[0m: "
     ]
    }
   ],
   "source": [
    "gp.restart(3, 2)"
   ]
  },
  {
   "cell_type": "code",
   "execution_count": null,
   "metadata": {},
   "outputs": [],
   "source": [
    "panic()"
   ]
  },
  {
   "cell_type": "code",
   "execution_count": null,
   "metadata": {},
   "outputs": [],
   "source": [
    "from time import sleep\n",
    "from src.guitar_practice import DEFAULT_STRING_RANGES\n",
    "from src.logic_interface import peep, play_melody, panic\n",
    "from src.audio_io import record\n",
    "from src.audio_to_notes import extract_note_sequence\n",
    "from src.my_types import *\n",
    "\n",
    "panic()\n",
    "recordings: list[floatlist] = []\n",
    "sleep(3)\n",
    "while True:\n",
    "    peep()\n",
    "    recordings.append(record(2))"
   ]
  },
  {
   "cell_type": "code",
   "execution_count": null,
   "metadata": {},
   "outputs": [],
   "source": [
    "print(len(recordings))"
   ]
  },
  {
   "cell_type": "code",
   "execution_count": null,
   "metadata": {},
   "outputs": [],
   "source": [
    "recording = record(3)"
   ]
  },
  {
   "cell_type": "code",
   "execution_count": null,
   "metadata": {},
   "outputs": [],
   "source": [
    "import sounddevice as sd\n",
    "\n",
    "from src.constants import SAMPLE_RATE\n",
    "\n",
    "sd.play(recording, samplerate=SAMPLE_RATE)"
   ]
  },
  {
   "cell_type": "code",
   "execution_count": null,
   "metadata": {},
   "outputs": [],
   "source": [
    "print(extract_note_sequence(recording, 3))"
   ]
  },
  {
   "cell_type": "code",
   "execution_count": null,
   "metadata": {},
   "outputs": [],
   "source": [
    "import soundfile as sf # type: ignore\n",
    "from src.constants import SAMPLE_RATE\n",
    "import sounddevice as sd # type: ignore\n",
    "from src.guitar_practice import DEFAULT_STRING_RANGES\n",
    "from src.my_types import *\n",
    "from src.audio_to_notes import extract_note_sequence\n",
    "from src.logic_interface import play_melody\n",
    "from src.note import *\n",
    "\n",
    "recordings: list[floatlist] = []\n",
    "for i in range(29):\n",
    "    audio, _ = sf.read(f\"recordings/{i}.wav\")\n",
    "    recordings.append(audio)\n",
    "\n",
    "targets = [\n",
    "    [C3, F3, A3],\n",
    "    [D3, F3, Bf3],\n",
    "    [Ef3, Af3, C4],\n",
    "    [Bf2, D3, G3],\n",
    "    [A2, C3, F3],\n",
    "    [F3, Af3, C4],\n",
    "    [G3, B3, E4],\n",
    "    [Fs3, A3, D4],\n",
    "    [E3, A3, Df4],\n",
    "    [E3, G3, C4],\n",
    "    [Ef3, G3, Bf3],\n",
    "    [F3, A3, C4],\n",
    "    [Fs3, A3, Df4],\n",
    "    [Af3, B3, Ef4],\n",
    "    [C3, F3, A3],\n",
    "    [A2, C3, F3],\n",
    "    [B2, Ef3, Fs3],\n",
    "    [Df3, E3, Af3],\n",
    "    [G2, B2, E3],\n",
    "    [G3, B3, E4],\n",
    "    [C3, F3, A3],\n",
    "    [D3, F3, Bf3],\n",
    "    [Ef3, Af3, C4],\n",
    "    [Ef3, G3, Bf3],\n",
    "    [Bf2, Ef3, G3],\n",
    "    [C3, Ef3, Af3],\n",
    "    [F3, Af3, C4],\n",
    "    [G3, B3, D4],\n",
    "    [G3, C4, E4],\n",
    "]"
   ]
  },
  {
   "cell_type": "code",
   "execution_count": null,
   "metadata": {},
   "outputs": [],
   "source": [
    "from src.logic_interface import peep\n",
    "\n",
    "while True:\n",
    "    peep()\n",
    "    rec = record(2)\n",
    "    peep()\n",
    "    notes = extract_note_sequence(rec, 3, DEFAULT_STRING_RANGES)\n",
    "    play_melody(notes)"
   ]
  },
  {
   "cell_type": "code",
   "execution_count": null,
   "metadata": {},
   "outputs": [],
   "source": [
    "from typing import Callable\n",
    "\n",
    "\n",
    "def test_extraction(extract: Callable[[floatlist, int, list[tuple[Note, Note]]], list[Note]], rangeses: list[list[tuple[Note, Note]]]) -> list[bool]:\n",
    "    score: list[bool] = []\n",
    "    for rec, target, ranges in zip(recordings, targets, rangeses):\n",
    "        output = extract(rec, 3, ranges)\n",
    "        score.append(output == target)\n",
    "    return score"
   ]
  },
  {
   "cell_type": "code",
   "execution_count": null,
   "metadata": {},
   "outputs": [],
   "source": [
    "results = test_extraction(extract_note_sequence, rangeses=[DEFAULT_STRING_RANGES for _ in recordings])\n",
    "[i for i, result in enumerate(results) if not result]"
   ]
  },
  {
   "cell_type": "code",
   "execution_count": null,
   "metadata": {},
   "outputs": [],
   "source": []
  }
 ],
 "metadata": {
  "kernelspec": {
   "display_name": "midi",
   "language": "python",
   "name": "python3"
  },
  "language_info": {
   "codemirror_mode": {
    "name": "ipython",
    "version": 3
   },
   "file_extension": ".py",
   "mimetype": "text/x-python",
   "name": "python",
   "nbconvert_exporter": "python",
   "pygments_lexer": "ipython3",
   "version": "3.12.4"
  }
 },
 "nbformat": 4,
 "nbformat_minor": 2
}
