{
 "cells": [
  {
   "cell_type": "markdown",
   "metadata": {},
   "source": [
    "# GUITAR PRACTICE"
   ]
  },
  {
   "cell_type": "code",
   "execution_count": 1,
   "metadata": {},
   "outputs": [],
   "source": [
    "from src.guitar_practice import GuitarPractice\n",
    "from src.midi_driver_interface import panic"
   ]
  },
  {
   "cell_type": "code",
   "execution_count": 2,
   "metadata": {},
   "outputs": [],
   "source": [
    "gp = GuitarPractice()"
   ]
  },
  {
   "cell_type": "code",
   "execution_count": 3,
   "metadata": {},
   "outputs": [
    {
     "ename": "KeyboardInterrupt",
     "evalue": "",
     "output_type": "error",
     "traceback": [
      "\u001b[0;31m---------------------------------------------------------------------------\u001b[0m",
      "\u001b[0;31mKeyboardInterrupt\u001b[0m                         Traceback (most recent call last)",
      "Cell \u001b[0;32mIn[3], line 1\u001b[0m\n\u001b[0;32m----> 1\u001b[0m gp\u001b[38;5;241m.\u001b[39mstart(\u001b[38;5;241m3\u001b[39m, \u001b[38;5;241m10\u001b[39m, \u001b[38;5;241m2\u001b[39m)\n",
      "File \u001b[0;32m~/Documents/Programmeer dingen/Chords-n-Stuff/src/guitar_practice.py:110\u001b[0m, in \u001b[0;36mGuitarPractice.start\u001b[0;34m(self, nr_of_chords_per_round, nr_of_rounds, rec_time_per_chord, one_go)\u001b[0m\n\u001b[1;32m    108\u001b[0m         \u001b[38;5;28mself\u001b[39m\u001b[38;5;241m.\u001b[39mplay_round_in_one_go([prev] \u001b[38;5;241m+\u001b[39m distributions, rec_time_per_chord)\n\u001b[1;32m    109\u001b[0m     \u001b[38;5;28;01melse\u001b[39;00m:\n\u001b[0;32m--> 110\u001b[0m         \u001b[38;5;28mself\u001b[39m\u001b[38;5;241m.\u001b[39mplay_round([prev] \u001b[38;5;241m+\u001b[39m distributions, rec_time_per_chord)\n\u001b[1;32m    111\u001b[0m \u001b[38;5;28;01mreturn\u001b[39;00m \u001b[38;5;28mround\u001b[39m(nr_of_rounds \u001b[38;5;241m/\u001b[39m \u001b[38;5;28mself\u001b[39m\u001b[38;5;241m.\u001b[39mattempts_count \u001b[38;5;241m*\u001b[39m \u001b[38;5;241m100\u001b[39m) \u001b[38;5;241m/\u001b[39m \u001b[38;5;241m10\u001b[39m\n",
      "File \u001b[0;32m~/Documents/Programmeer dingen/Chords-n-Stuff/src/guitar_practice.py:166\u001b[0m, in \u001b[0;36mGuitarPractice.play_round\u001b[0;34m(self, distributions, sleep_duration)\u001b[0m\n\u001b[1;32m    164\u001b[0m \u001b[38;5;28mself\u001b[39m\u001b[38;5;241m.\u001b[39mattempts_count \u001b[38;5;241m+\u001b[39m\u001b[38;5;241m=\u001b[39m \u001b[38;5;241m1\u001b[39m\n\u001b[1;32m    165\u001b[0m \u001b[38;5;28;01mfor\u001b[39;00m distribution \u001b[38;5;129;01min\u001b[39;00m distributions:\n\u001b[0;32m--> 166\u001b[0m     play_melody(distribution)\n\u001b[1;32m    167\u001b[0m peep()\n\u001b[1;32m    168\u001b[0m recordings: \u001b[38;5;28mlist\u001b[39m[floatlist] \u001b[38;5;241m=\u001b[39m []\n",
      "File \u001b[0;32m~/Documents/Programmeer dingen/Chords-n-Stuff/src/midi_driver_interface.py:68\u001b[0m, in \u001b[0;36mplay_melody\u001b[0;34m(notes, durations)\u001b[0m\n\u001b[1;32m     66\u001b[0m \u001b[38;5;28;01mfor\u001b[39;00m note, duration \u001b[38;5;129;01min\u001b[39;00m \u001b[38;5;28mzip\u001b[39m(notes, durations):\n\u001b[1;32m     67\u001b[0m     output_port\u001b[38;5;241m.\u001b[39msend(Message(\u001b[38;5;124m\"\u001b[39m\u001b[38;5;124mnote_on\u001b[39m\u001b[38;5;124m\"\u001b[39m, note\u001b[38;5;241m=\u001b[39mnote\u001b[38;5;241m.\u001b[39mmidi_value, velocity\u001b[38;5;241m=\u001b[39m\u001b[38;5;241m64\u001b[39m))  \u001b[38;5;66;03m# type: ignore\u001b[39;00m\n\u001b[0;32m---> 68\u001b[0m     time\u001b[38;5;241m.\u001b[39msleep(duration)\n\u001b[1;32m     69\u001b[0m     output_port\u001b[38;5;241m.\u001b[39msend(Message(\u001b[38;5;124m\"\u001b[39m\u001b[38;5;124mnote_off\u001b[39m\u001b[38;5;124m\"\u001b[39m, note\u001b[38;5;241m=\u001b[39mnote\u001b[38;5;241m.\u001b[39mmidi_value, velocity\u001b[38;5;241m=\u001b[39m\u001b[38;5;241m64\u001b[39m))  \u001b[38;5;66;03m# type: ignore\u001b[39;00m\n\u001b[1;32m     70\u001b[0m output_port\u001b[38;5;241m.\u001b[39mclose()\n",
      "\u001b[0;31mKeyboardInterrupt\u001b[0m: "
     ]
    }
   ],
   "source": [
    "gp.start(3, 10, 2)"
   ]
  },
  {
   "cell_type": "code",
   "execution_count": 4,
   "metadata": {},
   "outputs": [],
   "source": [
    "panic()"
   ]
  },
  {
   "cell_type": "code",
   "execution_count": 19,
   "metadata": {},
   "outputs": [
    {
     "data": {
      "text/plain": [
       "9.1"
      ]
     },
     "execution_count": 19,
     "metadata": {},
     "output_type": "execute_result"
    }
   ],
   "source": [
    "gp.restart(2)"
   ]
  },
  {
   "cell_type": "code",
   "execution_count": null,
   "metadata": {},
   "outputs": [],
   "source": [
    "from src.midi_driver_interface import play_melody\n",
    "\n",
    "\n",
    "i = 20\n",
    "\n",
    "for voicing in gp.engine.history[i*2: i*2+3]:\n",
    "    play_melody(voicing)"
   ]
  },
  {
   "cell_type": "markdown",
   "metadata": {},
   "source": [
    "# MIDI PLAYBACK"
   ]
  },
  {
   "cell_type": "code",
   "execution_count": null,
   "metadata": {},
   "outputs": [],
   "source": [
    "from src.midi_driver_interface import peep, play_melody\n",
    "from src.audio_io import record\n",
    "from src.audio_to_notes import extract_note_sequence\n",
    "from src.guitar_practice import DEFAULT_STRING_RANGES\n",
    "\n",
    "while True:\n",
    "    peep()\n",
    "    rec = record(2)\n",
    "    peep()\n",
    "    notes = extract_note_sequence(rec, 3, DEFAULT_STRING_RANGES)\n",
    "    play_melody(notes)"
   ]
  },
  {
   "cell_type": "markdown",
   "metadata": {},
   "source": [
    "# PERFORMANCE"
   ]
  },
  {
   "cell_type": "code",
   "execution_count": 1,
   "metadata": {},
   "outputs": [],
   "source": [
    "from src.stochastic_distribution_engine import StochasticDistributionEngine\n",
    "\n",
    "from src.metrics.metric import Metric\n",
    "from src.metrics.individual_steps import IndividualSteps\n",
    "from src.metrics.diatonic_local import DiatonicLocal\n",
    "from src.metrics.within_octave import WithinOctave\n",
    "from src.metrics.legal_patterns import LegalPatterns\n",
    "from src.metrics.no_dup_notes import NoDupNotes\n",
    "from src.metrics.no_combination_reps import NoCombinationReps\n",
    "from src.metrics.legal_range import LegalRange\n",
    "\n",
    "from src.pattern import *\n",
    "from src.note import *\n",
    "from src.distribution import Distribution\n",
    "\n",
    "from src.profiler import report_timings"
   ]
  },
  {
   "cell_type": "code",
   "execution_count": 3,
   "metadata": {},
   "outputs": [
    {
     "name": "stdout",
     "output_type": "stream",
     "text": [
      "\n",
      "Timing Report:\n",
      "StochasticDistributionEngine:\n",
      "    get_next: 3.891350 seconds, called 200 times\n",
      "    reset: 0.000147 seconds, called 10 times\n",
      "    __init__: 0.000011 seconds, called 1 times\n",
      "Distribution:\n",
      "    fits: 1.716655 seconds, called 21791 times\n",
      "    has_optimal_pc_spread: 0.580233 seconds, called 8889 times\n",
      "    pc_count: 0.524450 seconds, called 8889 times\n",
      "    __hash__: 0.514159 seconds, called 60501 times\n",
      "    combination: 0.129552 seconds, called 8519 times\n",
      "    voicing: 0.105056 seconds, called 30310 times\n",
      "    __add__: 0.083291 seconds, called 14232 times\n",
      "    __init__: 0.026841 seconds, called 14433 times\n",
      "    __iter__: 0.021581 seconds, called 24042 times\n",
      "    __eq__: 0.015602 seconds, called 2372 times\n",
      "    __len__: 0.005340 seconds, called 7565 times\n",
      "    __getitem__: 0.002056 seconds, called 2372 times\n",
      "Metric:\n",
      "    prune: 2.695234 seconds, called 14232 times\n",
      "    score_assuming_pruned: 0.314787 seconds, called 10570 times\n",
      "    __init__: 0.000011 seconds, called 7 times\n",
      "LegalPatterns:\n",
      "    _allows_partial: 1.706601 seconds, called 11860 times\n",
      "    _score_assuming_legal: 0.055768 seconds, called 1510 times\n",
      "    __init__: 0.001299 seconds, called 1 times\n",
      "    _allows_complete_assuming_pruned: 0.000893 seconds, called 1510 times\n",
      "    setup: 0.000158 seconds, called 200 times\n",
      "Voicing:\n",
      "    fits: 0.763318 seconds, called 21791 times\n",
      "    __init__: 0.062739 seconds, called 11861 times\n",
      "Note:\n",
      "    __hash__: 0.153034 seconds, called 164787 times\n",
      "    __ge__: 0.148594 seconds, called 16390 times\n",
      "    __sub__: 0.145335 seconds, called 15328 times\n",
      "    __lshift__: 0.076526 seconds, called 14232 times\n",
      "    __gt__: 0.074873 seconds, called 9026 times\n",
      "    __add__: 0.059482 seconds, called 7116 times\n",
      "IndividualSteps:\n",
      "    get_allowed: 0.439657 seconds, called 2372 times\n",
      "    _score_assuming_legal: 0.065757 seconds, called 1510 times\n",
      "    _allows_complete_assuming_pruned: 0.000867 seconds, called 1510 times\n",
      "    setup: 0.000635 seconds, called 200 times\n",
      "    __init__: 0.000052 seconds, called 1 times\n",
      "WithinOctave:\n",
      "    _allows_partial: 0.174076 seconds, called 3682 times\n",
      "    _score_assuming_legal: 0.090254 seconds, called 1510 times\n",
      "    _allows_complete_assuming_pruned: 0.000765 seconds, called 1510 times\n",
      "    setup: 0.000205 seconds, called 200 times\n",
      "    __init__: 0.000005 seconds, called 1 times\n",
      "DiatonicLocal:\n",
      "    _allows_partial: 0.164573 seconds, called 5209 times\n",
      "    setup: 0.045636 seconds, called 200 times\n",
      "    _score_assuming_legal: 0.013020 seconds, called 1510 times\n",
      "    _allows_complete_assuming_pruned: 0.001243 seconds, called 1510 times\n",
      "    __init__: 0.000099 seconds, called 1 times\n",
      "LegalRange:\n",
      "    _allows_partial: 0.203364 seconds, called 3682 times\n",
      "    _allows_complete_assuming_pruned: 0.001179 seconds, called 1510 times\n",
      "    _score_assuming_legal: 0.000880 seconds, called 1510 times\n",
      "    setup: 0.000133 seconds, called 200 times\n",
      "    __init__: 0.000004 seconds, called 1 times\n",
      "Pattern:\n",
      "    __contains__: 0.149889 seconds, called 21791 times\n",
      "    __len__: 0.011159 seconds, called 8891 times\n",
      "    __hash__: 0.000005 seconds, called 2 times\n",
      "Combination:\n",
      "    __contains__: 0.027063 seconds, called 14921 times\n",
      "    __eq__: 0.014099 seconds, called 6736 times\n",
      "    __init__: 0.011413 seconds, called 530 times\n",
      "    __add__: 0.004342 seconds, called 2050 times\n",
      "    __hash__: 0.001111 seconds, called 1511 times\n",
      "NoCombinationReps:\n",
      "    _allows_complete_assuming_pruned: 0.033487 seconds, called 1510 times\n",
      "    _score_assuming_legal: 0.011257 seconds, called 1510 times\n",
      "    setup: 0.006086 seconds, called 200 times\n",
      "    _allows_partial: 0.002169 seconds, called 3682 times\n",
      "    __init__: 0.000005 seconds, called 1 times\n",
      "NoDupNotes:\n",
      "    _allows_partial: 0.043178 seconds, called 3682 times\n",
      "    _allows_complete_assuming_pruned: 0.000898 seconds, called 1510 times\n",
      "    _score_assuming_legal: 0.000734 seconds, called 1510 times\n",
      "    setup: 0.000130 seconds, called 200 times\n",
      "    __init__: 0.000003 seconds, called 1 times\n",
      "PitchClass:\n",
      "    __hash__: 0.039072 seconds, called 57151 times\n"
     ]
    }
   ],
   "source": [
    "gen_metric = IndividualSteps(0, 2, 1)\n",
    "\n",
    "other_metrics: list[Metric] = [\n",
    "    LegalPatterns({MARY, MINNY}),\n",
    "    DiatonicLocal(3, 5),\n",
    "    WithinOctave(),\n",
    "    NoDupNotes(),\n",
    "    NoCombinationReps(3, 5),\n",
    "    LegalRange(C2, C5),\n",
    "]\n",
    "\n",
    "start = Distribution([C3, F3, A3])\n",
    "engine = StochasticDistributionEngine(gen_metric, other_metrics, start)\n",
    "\n",
    "for _ in range(10):\n",
    "    engine.reset(start)\n",
    "    for _ in range(20):\n",
    "        engine.get_next()\n",
    "\n",
    "report_timings()"
   ]
  },
  {
   "cell_type": "code",
   "execution_count": 1,
   "metadata": {},
   "outputs": [],
   "source": [
    "from src.stochastic_distribution_engine import StochasticDistributionEngine\n",
    "\n",
    "from src.metrics.metric import Metric\n",
    "from src.metrics.individual_steps import IndividualSteps\n",
    "from src.metrics.diatonic_local import DiatonicLocal\n",
    "from src.metrics.within_octave import WithinOctave\n",
    "from src.metrics.legal_patterns import LegalPatterns\n",
    "from src.metrics.no_dup_notes import NoDupNotes\n",
    "from src.metrics.no_combination_reps import NoCombinationReps\n",
    "from src.metrics.legal_range import LegalRange\n",
    "\n",
    "from src.pattern import *\n",
    "from src.note import *\n",
    "from src.distribution import Distribution\n",
    "\n",
    "from src.profiler import report_timings"
   ]
  },
  {
   "cell_type": "code",
   "execution_count": 2,
   "metadata": {},
   "outputs": [
    {
     "name": "stdout",
     "output_type": "stream",
     "text": [
      "\n",
      "Timing Report:\n",
      "Distribution:\n",
      "    fits: 2.723510 seconds, called 49972 times\n",
      "    has_optimal_pc_spread: 0.764869 seconds, called 10648 times\n",
      "    pc_count: 0.678564 seconds, called 10648 times\n",
      "    __hash__: 0.351899 seconds, called 64560 times\n",
      "    voicing: 0.349526 seconds, called 57620 times\n",
      "    __add__: 0.200943 seconds, called 31000 times\n",
      "    combination: 0.117029 seconds, called 7648 times\n",
      "    __init__: 0.031557 seconds, called 31201 times\n",
      "    __iter__: 0.021118 seconds, called 15688 times\n",
      "    __len__: 0.002738 seconds, called 2897 times\n",
      "StochasticDistributionEngine:\n",
      "    get_next: 4.604598 seconds, called 200 times\n",
      "    reset: 0.000092 seconds, called 10 times\n",
      "    __init__: 0.000015 seconds, called 1 times\n",
      "Metric:\n",
      "    prune: 3.375244 seconds, called 1200 times\n",
      "    score_assuming_pruned: 0.268776 seconds, called 10136 times\n",
      "    __init__: 0.000019 seconds, called 7 times\n",
      "LegalPatterns:\n",
      "    _allows_partial: 2.871862 seconds, called 25000 times\n",
      "    _score_assuming_legal: 0.112737 seconds, called 1448 times\n",
      "    _allows_complete_assuming_pruned: 0.002093 seconds, called 1448 times\n",
      "    setup: 0.000219 seconds, called 200 times\n",
      "    __init__: 0.000074 seconds, called 1 times\n",
      "IndividualSteps:\n",
      "    get_allowed: 0.631596 seconds, called 200 times\n",
      "    _score_assuming_legal: 0.056544 seconds, called 1448 times\n",
      "    setup: 0.001066 seconds, called 200 times\n",
      "    _allows_complete_assuming_pruned: 0.000976 seconds, called 1448 times\n",
      "    __init__: 0.000075 seconds, called 1 times\n",
      "DiatonicLocal:\n",
      "    _allows_partial: 0.122496 seconds, called 4400 times\n",
      "    setup: 0.027251 seconds, called 200 times\n",
      "    _score_assuming_legal: 0.007863 seconds, called 1448 times\n",
      "    _allows_complete_assuming_pruned: 0.000956 seconds, called 1448 times\n",
      "    __init__: 0.000183 seconds, called 1 times\n",
      "LegalRange:\n",
      "    _allows_partial: 0.069864 seconds, called 1448 times\n",
      "    _score_assuming_legal: 0.006636 seconds, called 1448 times\n",
      "    _allows_complete_assuming_pruned: 0.000795 seconds, called 1448 times\n",
      "    setup: 0.000150 seconds, called 200 times\n",
      "    __init__: 0.000006 seconds, called 1 times\n",
      "WithinOctave:\n",
      "    _allows_partial: 0.069678 seconds, called 1448 times\n",
      "    _score_assuming_legal: 0.000945 seconds, called 1448 times\n",
      "    _allows_complete_assuming_pruned: 0.000934 seconds, called 1448 times\n",
      "    setup: 0.000283 seconds, called 200 times\n",
      "    __init__: 0.000010 seconds, called 1 times\n",
      "NoCombinationReps:\n",
      "    _score_assuming_legal: 0.016447 seconds, called 1448 times\n",
      "    setup: 0.006324 seconds, called 200 times\n",
      "    _allows_complete_assuming_pruned: 0.005801 seconds, called 1448 times\n",
      "    _allows_partial: 0.000896 seconds, called 1448 times\n",
      "    __init__: 0.000007 seconds, called 1 times\n",
      "NoDupNotes:\n",
      "    _allows_partial: 0.012881 seconds, called 1448 times\n",
      "    _allows_complete_assuming_pruned: 0.000873 seconds, called 1448 times\n",
      "    _score_assuming_legal: 0.000828 seconds, called 1448 times\n",
      "    setup: 0.000145 seconds, called 200 times\n",
      "    __init__: 0.000005 seconds, called 1 times\n"
     ]
    }
   ],
   "source": [
    "# RETESTING THE CODE\n",
    "\n",
    "gen_metric = IndividualSteps(0, 2, 1)\n",
    "\n",
    "other_metrics: list[Metric] = [\n",
    "    LegalPatterns({MARY, MINNY}),\n",
    "    DiatonicLocal(3, 5),\n",
    "    WithinOctave(),\n",
    "    NoDupNotes(),\n",
    "    NoCombinationReps(3, 5),\n",
    "    LegalRange(C2, C5),\n",
    "]\n",
    "\n",
    "start = Distribution([C3, F3, A3])\n",
    "engine = StochasticDistributionEngine(gen_metric, other_metrics, start)\n",
    "\n",
    "for _ in range(10):\n",
    "    engine.reset(start)\n",
    "    for _ in range(20):\n",
    "        engine.get_next()\n",
    "\n",
    "report_timings()"
   ]
  },
  {
   "cell_type": "code",
   "execution_count": null,
   "metadata": {},
   "outputs": [],
   "source": []
  }
 ],
 "metadata": {
  "kernelspec": {
   "display_name": "midi",
   "language": "python",
   "name": "python3"
  },
  "language_info": {
   "codemirror_mode": {
    "name": "ipython",
    "version": 3
   },
   "file_extension": ".py",
   "mimetype": "text/x-python",
   "name": "python",
   "nbconvert_exporter": "python",
   "pygments_lexer": "ipython3",
   "version": "3.12.4"
  }
 },
 "nbformat": 4,
 "nbformat_minor": 2
}
